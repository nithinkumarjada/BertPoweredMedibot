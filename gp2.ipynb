{
 "cells": [
  {
   "cell_type": "code",
   "execution_count": 1,
   "id": "3f192ab5",
   "metadata": {},
   "outputs": [],
   "source": [
    "import pandas as pd\n",
    "import numpy as np\n",
    "import tensorflow as tf"
   ]
  },
  {
   "cell_type": "code",
   "execution_count": 2,
   "id": "5049487f",
   "metadata": {},
   "outputs": [],
   "source": [
    "import os\n",
    "import csv\n",
    "from tqdm import tqdm\n",
    "import argparse\n",
    "from glob import glob\n",
    "import faiss\n",
    "from multiprocessing import Pool, cpu_count\n",
    "from math import ceil\n",
    "from collections import defaultdict\n"
   ]
  },
  {
   "cell_type": "code",
   "execution_count": 4,
   "id": "044bc634",
   "metadata": {},
   "outputs": [],
   "source": [
    "\n",
    "#loading question and answer embeddings of train and validation data from disk\n",
    "train_embeds=pd.read_csv('re_train_embeds.csv')\n",
    "validation_embeds=pd.read_csv('re_validation_embeds.csv')"
   ]
  },
  {
   "cell_type": "code",
   "execution_count": 5,
   "id": "78734a92",
   "metadata": {},
   "outputs": [],
   "source": [
    "\n",
    "#function to preprocess question and answer embeddings post loading from disk\n",
    "def preprocess_embeds(embed):\n",
    "  output=[]\n",
    "  embed=embed[2:-2]\n",
    "  embed=embed.replace('\\n','')\n",
    "  for i in embed.split(' '):\n",
    "    if i!=' ' and i!='':\n",
    "      output.append(i)\n",
    "  return (output)\n",
    "\n",
    "     "
   ]
  },
  {
   "cell_type": "code",
   "execution_count": 6,
   "id": "71423fbb",
   "metadata": {},
   "outputs": [
    {
     "data": {
      "application/vnd.jupyter.widget-view+json": {
       "model_id": "ddc27fae66f9404aacd87fe4317b5779",
       "version_major": 2,
       "version_minor": 0
      },
      "text/plain": [
       "  0%|          | 0/5003 [00:00<?, ?it/s]"
      ]
     },
     "metadata": {},
     "output_type": "display_data"
    },
    {
     "data": {
      "application/vnd.jupyter.widget-view+json": {
       "model_id": "50346a177cac47bf806b4f28538d7fbd",
       "version_major": 2,
       "version_minor": 0
      },
      "text/plain": [
       "  0%|          | 0/5003 [00:00<?, ?it/s]"
      ]
     },
     "metadata": {},
     "output_type": "display_data"
    }
   ],
   "source": [
    "#preprocessing embeddings post loading from disk for train data\n",
    "from tqdm.notebook import tqdm\n",
    "tqdm.pandas()\n",
    "train_embeds['question_embeds']=train_embeds.short_question_embed_numpy.progress_apply(lambda x: preprocess_embeds(x))\n",
    "train_embeds['answer_embeds']=train_embeds.short_answer_embed_numpy.progress_apply(lambda x: preprocess_embeds(x))"
   ]
  },
  {
   "cell_type": "code",
   "execution_count": 7,
   "id": "7904f438",
   "metadata": {},
   "outputs": [
    {
     "data": {
      "application/vnd.jupyter.widget-view+json": {
       "model_id": "7605a7d3a10c4751a98cb976a1e7481d",
       "version_major": 2,
       "version_minor": 0
      },
      "text/plain": [
       "  0%|          | 0/504 [00:00<?, ?it/s]"
      ]
     },
     "metadata": {},
     "output_type": "display_data"
    },
    {
     "data": {
      "application/vnd.jupyter.widget-view+json": {
       "model_id": "9422957e8987487ba676f228204528d6",
       "version_major": 2,
       "version_minor": 0
      },
      "text/plain": [
       "  0%|          | 0/504 [00:00<?, ?it/s]"
      ]
     },
     "metadata": {},
     "output_type": "display_data"
    }
   ],
   "source": [
    "#preprocessing embeddings post loading from validation data\n",
    "validation_embeds['question_embeds']=validation_embeds.short_question_embed_numpy.progress_apply(lambda x: preprocess_embeds(x))\n",
    "validation_embeds['answer_embeds']=validation_embeds.short_answer_embed_numpy.progress_apply(lambda x: preprocess_embeds(x))"
   ]
  },
  {
   "cell_type": "code",
   "execution_count": 8,
   "id": "15a12774",
   "metadata": {},
   "outputs": [],
   "source": [
    "#function to l2 normalize each embedding\n",
    "def normalize(x):\n",
    "  x=np.array(x,dtype=np.float64)\n",
    "  return (x)/(np.linalg.norm(x))"
   ]
  },
  {
   "cell_type": "code",
   "execution_count": 9,
   "id": "5165a045",
   "metadata": {},
   "outputs": [],
   "source": [
    "#normalizing train question and answer embeddings\n",
    "train_embeds['question_embeds_norm']=train_embeds['question_embeds'].apply(lambda x: normalize(x))\n",
    "train_embeds['answer_embeds_norm']=train_embeds['answer_embeds'].apply(lambda x: normalize(x))"
   ]
  },
  {
   "cell_type": "code",
   "execution_count": 10,
   "id": "53862a2a",
   "metadata": {},
   "outputs": [],
   "source": [
    "#normalizing validation question and answer embeddings\n",
    "validation_embeds['question_embeds_norm']=validation_embeds['question_embeds'].apply(lambda x: normalize(x))\n",
    "validation_embeds['answer_embeds_norm']=validation_embeds['answer_embeds'].apply(lambda x: normalize(x))\n",
    "     "
   ]
  },
  {
   "cell_type": "code",
   "execution_count": 11,
   "id": "b9214f5e",
   "metadata": {},
   "outputs": [
    {
     "data": {
      "text/html": [
       "<div>\n",
       "<style scoped>\n",
       "    .dataframe tbody tr th:only-of-type {\n",
       "        vertical-align: middle;\n",
       "    }\n",
       "\n",
       "    .dataframe tbody tr th {\n",
       "        vertical-align: top;\n",
       "    }\n",
       "\n",
       "    .dataframe thead th {\n",
       "        text-align: right;\n",
       "    }\n",
       "</style>\n",
       "<table border=\"1\" class=\"dataframe\">\n",
       "  <thead>\n",
       "    <tr style=\"text-align: right;\">\n",
       "      <th></th>\n",
       "      <th>question</th>\n",
       "      <th>answer</th>\n",
       "      <th>Q_FFNN_embeds</th>\n",
       "      <th>A_FFNN_embeds</th>\n",
       "    </tr>\n",
       "  </thead>\n",
       "  <tbody>\n",
       "    <tr>\n",
       "      <th>0</th>\n",
       "      <td>can an antibiotic through an iv give you a ras...</td>\n",
       "      <td>yes it can even after you have finished the pr...</td>\n",
       "      <td>[-0.01421890905663768, 0.025619907450341046, 0...</td>\n",
       "      <td>[-0.007459985581738011, -0.02122592276723626, ...</td>\n",
       "    </tr>\n",
       "    <tr>\n",
       "      <th>1</th>\n",
       "      <td>can you test positive from having the hep b va...</td>\n",
       "      <td>test positive for what if you had a hep b vacc...</td>\n",
       "      <td>[-0.013814892581875434, 0.02668001998051444, 0...</td>\n",
       "      <td>[0.00223136463861142, -0.012820215500427647, 0...</td>\n",
       "    </tr>\n",
       "    <tr>\n",
       "      <th>2</th>\n",
       "      <td>what are the dietary restrictions for celiac d...</td>\n",
       "      <td>omitting gluten from the diet is the key to co...</td>\n",
       "      <td>[-0.014280090332285491, 0.02902447327765528, 0...</td>\n",
       "      <td>[-0.005688997413084786, -0.02194953130653521, ...</td>\n",
       "    </tr>\n",
       "  </tbody>\n",
       "</table>\n",
       "</div>"
      ],
      "text/plain": [
       "                                            question  \\\n",
       "0  can an antibiotic through an iv give you a ras...   \n",
       "1  can you test positive from having the hep b va...   \n",
       "2  what are the dietary restrictions for celiac d...   \n",
       "\n",
       "                                              answer  \\\n",
       "0  yes it can even after you have finished the pr...   \n",
       "1  test positive for what if you had a hep b vacc...   \n",
       "2  omitting gluten from the diet is the key to co...   \n",
       "\n",
       "                                       Q_FFNN_embeds  \\\n",
       "0  [-0.01421890905663768, 0.025619907450341046, 0...   \n",
       "1  [-0.013814892581875434, 0.02668001998051444, 0...   \n",
       "2  [-0.014280090332285491, 0.02902447327765528, 0...   \n",
       "\n",
       "                                       A_FFNN_embeds  \n",
       "0  [-0.007459985581738011, -0.02122592276723626, ...  \n",
       "1  [0.00223136463861142, -0.012820215500427647, 0...  \n",
       "2  [-0.005688997413084786, -0.02194953130653521, ...  "
      ]
     },
     "execution_count": 11,
     "metadata": {},
     "output_type": "execute_result"
    }
   ],
   "source": [
    "#Cleaning the gpt train data\n",
    "train_gpt_data=train_embeds[['short_question','short_answer','question_embeds_norm','answer_embeds_norm']].copy()\n",
    "train_gpt_data.columns=['question','answer','Q_FFNN_embeds','A_FFNN_embeds']\n",
    "train_gpt_data.head(3)"
   ]
  },
  {
   "cell_type": "code",
   "execution_count": 12,
   "id": "ec0fde94",
   "metadata": {},
   "outputs": [],
   "source": [
    "#saving gpt training data to disk\n",
    "train_gpt_data.to_pickle(\"./train_gpt_data.pkl\")\n",
    "     "
   ]
  },
  {
   "cell_type": "code",
   "execution_count": 13,
   "id": "78d2adb5",
   "metadata": {},
   "outputs": [
    {
     "data": {
      "text/html": [
       "<div>\n",
       "<style scoped>\n",
       "    .dataframe tbody tr th:only-of-type {\n",
       "        vertical-align: middle;\n",
       "    }\n",
       "\n",
       "    .dataframe tbody tr th {\n",
       "        vertical-align: top;\n",
       "    }\n",
       "\n",
       "    .dataframe thead th {\n",
       "        text-align: right;\n",
       "    }\n",
       "</style>\n",
       "<table border=\"1\" class=\"dataframe\">\n",
       "  <thead>\n",
       "    <tr style=\"text-align: right;\">\n",
       "      <th></th>\n",
       "      <th>question</th>\n",
       "      <th>answer</th>\n",
       "      <th>Q_FFNN_embeds</th>\n",
       "      <th>A_FFNN_embeds</th>\n",
       "    </tr>\n",
       "  </thead>\n",
       "  <tbody>\n",
       "    <tr>\n",
       "      <th>0</th>\n",
       "      <td>do i have a yeast infection</td>\n",
       "      <td>hi this can be a vaginal fungal infection whic...</td>\n",
       "      <td>[-0.008608112898811646, 0.025272781187763167, ...</td>\n",
       "      <td>[-0.0087260827168495, -0.025829989834866878, 0...</td>\n",
       "    </tr>\n",
       "    <tr>\n",
       "      <th>1</th>\n",
       "      <td>i need to buy health insurance asap what do i ...</td>\n",
       "      <td>go to healthcare gov call my husband 407 222 9...</td>\n",
       "      <td>[-0.0022776732616655664, 0.02531196420973276, ...</td>\n",
       "      <td>[-0.010670890831805894, 0.012798066486932491, ...</td>\n",
       "    </tr>\n",
       "    <tr>\n",
       "      <th>2</th>\n",
       "      <td>i had an acute ebv antibody test done and my r...</td>\n",
       "      <td>hi yes a chronic ebv infection also can be rul...</td>\n",
       "      <td>[-0.007839831409961463, 0.024712667389081715, ...</td>\n",
       "      <td>[-0.0025002140233858117, -0.020223583268815057...</td>\n",
       "    </tr>\n",
       "  </tbody>\n",
       "</table>\n",
       "</div>"
      ],
      "text/plain": [
       "                                            question  \\\n",
       "0                        do i have a yeast infection   \n",
       "1  i need to buy health insurance asap what do i ...   \n",
       "2  i had an acute ebv antibody test done and my r...   \n",
       "\n",
       "                                              answer  \\\n",
       "0  hi this can be a vaginal fungal infection whic...   \n",
       "1  go to healthcare gov call my husband 407 222 9...   \n",
       "2  hi yes a chronic ebv infection also can be rul...   \n",
       "\n",
       "                                       Q_FFNN_embeds  \\\n",
       "0  [-0.008608112898811646, 0.025272781187763167, ...   \n",
       "1  [-0.0022776732616655664, 0.02531196420973276, ...   \n",
       "2  [-0.007839831409961463, 0.024712667389081715, ...   \n",
       "\n",
       "                                       A_FFNN_embeds  \n",
       "0  [-0.0087260827168495, -0.025829989834866878, 0...  \n",
       "1  [-0.010670890831805894, 0.012798066486932491, ...  \n",
       "2  [-0.0025002140233858117, -0.020223583268815057...  "
      ]
     },
     "execution_count": 13,
     "metadata": {},
     "output_type": "execute_result"
    }
   ],
   "source": [
    "#cleaning gpt validation data\n",
    "validation_gpt_data=validation_embeds[['short_question','short_answer','question_embeds_norm','answer_embeds_norm']].copy()\n",
    "validation_gpt_data.columns=['question','answer','Q_FFNN_embeds','A_FFNN_embeds']\n",
    "validation_gpt_data.head(3)"
   ]
  },
  {
   "cell_type": "code",
   "execution_count": 14,
   "id": "5331b286",
   "metadata": {},
   "outputs": [],
   "source": [
    "#saving the gpt validation data to disk\n",
    "validation_gpt_data.to_pickle(\"./validation_gpt_data.pkl\")"
   ]
  },
  {
   "cell_type": "code",
   "execution_count": 15,
   "id": "cc51e15e",
   "metadata": {},
   "outputs": [],
   "source": [
    "\n",
    "#loading train and validation gpt data from disk\n",
    "train_gpt_data=pd.read_pickle('./train_gpt_data.pkl')\n",
    "validation_gpt_data=pd.read_pickle('./validation_gpt_data.pkl')"
   ]
  },
  {
   "cell_type": "code",
   "execution_count": 16,
   "id": "5f110b83",
   "metadata": {},
   "outputs": [
    {
     "data": {
      "text/plain": [
       "((5003, 4), (504, 4))"
      ]
     },
     "execution_count": 16,
     "metadata": {},
     "output_type": "execute_result"
    }
   ],
   "source": [
    "train_gpt_data.shape,validation_gpt_data.shape"
   ]
  },
  {
   "cell_type": "code",
   "execution_count": 17,
   "id": "98479e09",
   "metadata": {},
   "outputs": [
    {
     "data": {
      "text/html": [
       "<div>\n",
       "<style scoped>\n",
       "    .dataframe tbody tr th:only-of-type {\n",
       "        vertical-align: middle;\n",
       "    }\n",
       "\n",
       "    .dataframe tbody tr th {\n",
       "        vertical-align: top;\n",
       "    }\n",
       "\n",
       "    .dataframe thead th {\n",
       "        text-align: right;\n",
       "    }\n",
       "</style>\n",
       "<table border=\"1\" class=\"dataframe\">\n",
       "  <thead>\n",
       "    <tr style=\"text-align: right;\">\n",
       "      <th></th>\n",
       "      <th>question</th>\n",
       "      <th>answer</th>\n",
       "      <th>Q_FFNN_embeds</th>\n",
       "      <th>A_FFNN_embeds</th>\n",
       "    </tr>\n",
       "  </thead>\n",
       "  <tbody>\n",
       "    <tr>\n",
       "      <th>0</th>\n",
       "      <td>can an antibiotic through an iv give you a ras...</td>\n",
       "      <td>yes it can even after you have finished the pr...</td>\n",
       "      <td>[-0.01421890905663768, 0.025619907450341046, 0...</td>\n",
       "      <td>[-0.007459985581738011, -0.02122592276723626, ...</td>\n",
       "    </tr>\n",
       "    <tr>\n",
       "      <th>1</th>\n",
       "      <td>can you test positive from having the hep b va...</td>\n",
       "      <td>test positive for what if you had a hep b vacc...</td>\n",
       "      <td>[-0.013814892581875434, 0.02668001998051444, 0...</td>\n",
       "      <td>[0.00223136463861142, -0.012820215500427647, 0...</td>\n",
       "    </tr>\n",
       "    <tr>\n",
       "      <th>2</th>\n",
       "      <td>what are the dietary restrictions for celiac d...</td>\n",
       "      <td>omitting gluten from the diet is the key to co...</td>\n",
       "      <td>[-0.014280090332285491, 0.02902447327765528, 0...</td>\n",
       "      <td>[-0.005688997413084786, -0.02194953130653521, ...</td>\n",
       "    </tr>\n",
       "    <tr>\n",
       "      <th>3</th>\n",
       "      <td>i have had a pneumonia shot can i get either a...</td>\n",
       "      <td>you can always catch an illness from a child b...</td>\n",
       "      <td>[-0.0051098851649243136, 0.026251631984036797,...</td>\n",
       "      <td>[-0.0028335161187219376, -0.017787302858114903...</td>\n",
       "    </tr>\n",
       "    <tr>\n",
       "      <th>4</th>\n",
       "      <td>my baby ate her on poop my baby ate poop 4 day...</td>\n",
       "      <td>hi one of ours did that she is now 47 and a mu...</td>\n",
       "      <td>[-0.006687587964836193, 0.023149305110760594, ...</td>\n",
       "      <td>[-0.00492109446937413, -0.02058334904862069, 0...</td>\n",
       "    </tr>\n",
       "  </tbody>\n",
       "</table>\n",
       "</div>"
      ],
      "text/plain": [
       "                                            question  \\\n",
       "0  can an antibiotic through an iv give you a ras...   \n",
       "1  can you test positive from having the hep b va...   \n",
       "2  what are the dietary restrictions for celiac d...   \n",
       "3  i have had a pneumonia shot can i get either a...   \n",
       "4  my baby ate her on poop my baby ate poop 4 day...   \n",
       "\n",
       "                                              answer  \\\n",
       "0  yes it can even after you have finished the pr...   \n",
       "1  test positive for what if you had a hep b vacc...   \n",
       "2  omitting gluten from the diet is the key to co...   \n",
       "3  you can always catch an illness from a child b...   \n",
       "4  hi one of ours did that she is now 47 and a mu...   \n",
       "\n",
       "                                       Q_FFNN_embeds  \\\n",
       "0  [-0.01421890905663768, 0.025619907450341046, 0...   \n",
       "1  [-0.013814892581875434, 0.02668001998051444, 0...   \n",
       "2  [-0.014280090332285491, 0.02902447327765528, 0...   \n",
       "3  [-0.0051098851649243136, 0.026251631984036797,...   \n",
       "4  [-0.006687587964836193, 0.023149305110760594, ...   \n",
       "\n",
       "                                       A_FFNN_embeds  \n",
       "0  [-0.007459985581738011, -0.02122592276723626, ...  \n",
       "1  [0.00223136463861142, -0.012820215500427647, 0...  \n",
       "2  [-0.005688997413084786, -0.02194953130653521, ...  \n",
       "3  [-0.0028335161187219376, -0.017787302858114903...  \n",
       "4  [-0.00492109446937413, -0.02058334904862069, 0...  "
      ]
     },
     "execution_count": 17,
     "metadata": {},
     "output_type": "execute_result"
    }
   ],
   "source": [
    "\n",
    "#displaying the train gpt data\n",
    "train_gpt_data.head(5)"
   ]
  },
  {
   "cell_type": "code",
   "execution_count": 18,
   "id": "2238009a",
   "metadata": {},
   "outputs": [],
   "source": [
    "import os\n",
    "import csv\n",
    "from tqdm import tqdm\n",
    "import argparse\n",
    "from glob import glob\n",
    "import faiss\n",
    "from multiprocessing import Pool, cpu_count\n",
    "from math import ceil\n",
    "from collections import defaultdict\n",
    "\n",
    "#creating faiss index for semantic search \n",
    "#https://github.com/ash3n/DocProduct/blob/master/docproduct/train_embedding_to_gpt2_data.py\n",
    "qa = pd.read_pickle('./train_gpt_data.pkl')\n",
    "question_bert = qa[\"Q_FFNN_embeds\"].tolist()\n",
    "answer_bert = qa[\"A_FFNN_embeds\"].tolist()\n",
    "question_bert = np.array(question_bert)\n",
    "answer_bert = np.array(answer_bert)\n",
    "\n",
    "question_bert = question_bert.astype('float32')\n",
    "answer_bert = answer_bert.astype('float32')\n",
    "answer_index = faiss.IndexFlatIP(answer_bert.shape[-1])\n",
    "answer_index.add(answer_bert)"
   ]
  },
  {
   "cell_type": "code",
   "execution_count": 21,
   "id": "2b3998e2",
   "metadata": {},
   "outputs": [],
   "source": [
    "\n",
    "#defining function to prepare the actual gpt training data by retrieving similar question and answer pairs\n",
    "#https://github.com/ash3n/DocProduct/blob/master/docproduct/train_embedding_to_gpt2_data.py\n",
    "def preparing_gpt_training_data(question,answer,question_embedding):\n",
    "  topk=20\n",
    "  scores,indices=answer_index.search(\n",
    "                  np.array([question_embedding]).astype('float32'), topk)\n",
    "  q_sub=qa.iloc[indices.reshape(20)]\n",
    "  \n",
    "  line = '`QUESTION: %s `ANSWER: %s' % (\n",
    "                        question, answer)\n",
    "  encoded_len=len(tokenizer.encode(line))\n",
    "  for i in q_sub.iterrows():\n",
    "    line='`QUESTION: %s `ANSWER: %s ' % (i[1]['question'],i[1]['answer']) + line\n",
    "    line=line.replace('\\n','')\n",
    "    encoded_len=len(tokenizer.encode(line))\n",
    "    if encoded_len>=1024:\n",
    "      break\n",
    "  return tokenizer.encode(line)[-1024:]\n",
    "     "
   ]
  },
  {
   "cell_type": "code",
   "execution_count": 23,
   "id": "6e769f36",
   "metadata": {},
   "outputs": [
    {
     "data": {
      "application/vnd.jupyter.widget-view+json": {
       "model_id": "e14f1f75964144f0bd44b9ff1dcb9c1a",
       "version_major": 2,
       "version_minor": 0
      },
      "text/plain": [
       "Downloading (…)olve/main/vocab.json:   0%|          | 0.00/1.04M [00:00<?, ?B/s]"
      ]
     },
     "metadata": {},
     "output_type": "display_data"
    },
    {
     "name": "stderr",
     "output_type": "stream",
     "text": [
      "E:\\anacondafiles\\envs\\geekl\\Lib\\site-packages\\huggingface_hub\\file_download.py:133: UserWarning: `huggingface_hub` cache-system uses symlinks by default to efficiently store duplicated files but your machine does not support them in C:\\Users\\manis\\.cache\\huggingface\\hub. Caching files will still work but in a degraded version that might require more space on your disk. This warning can be disabled by setting the `HF_HUB_DISABLE_SYMLINKS_WARNING` environment variable. For more details, see https://huggingface.co/docs/huggingface_hub/how-to-cache#limitations.\n",
      "To support symlinks on Windows, you either need to activate Developer Mode or to run Python as an administrator. In order to see activate developer mode, see this article: https://docs.microsoft.com/en-us/windows/apps/get-started/enable-your-device-for-development\n",
      "  warnings.warn(message)\n"
     ]
    },
    {
     "data": {
      "application/vnd.jupyter.widget-view+json": {
       "model_id": "edbf380ec955409198e98f203dcd0544",
       "version_major": 2,
       "version_minor": 0
      },
      "text/plain": [
       "Downloading (…)olve/main/merges.txt:   0%|          | 0.00/456k [00:00<?, ?B/s]"
      ]
     },
     "metadata": {},
     "output_type": "display_data"
    },
    {
     "data": {
      "application/vnd.jupyter.widget-view+json": {
       "model_id": "b70607b1b09142f98d69131baa0f8dc8",
       "version_major": 2,
       "version_minor": 0
      },
      "text/plain": [
       "Downloading (…)lve/main/config.json:   0%|          | 0.00/665 [00:00<?, ?B/s]"
      ]
     },
     "metadata": {},
     "output_type": "display_data"
    },
    {
     "data": {
      "application/vnd.jupyter.widget-view+json": {
       "model_id": "0014d6ab574b4870b19ffe4fc55ce146",
       "version_major": 2,
       "version_minor": 0
      },
      "text/plain": [
       "Downloading model.safetensors:   0%|          | 0.00/548M [00:00<?, ?B/s]"
      ]
     },
     "metadata": {},
     "output_type": "display_data"
    },
    {
     "name": "stderr",
     "output_type": "stream",
     "text": [
      "All PyTorch model weights were used when initializing TFGPT2LMHeadModel.\n",
      "\n",
      "All the weights of TFGPT2LMHeadModel were initialized from the PyTorch model.\n",
      "If your task is similar to the task the model of the checkpoint was trained on, you can already use TFGPT2LMHeadModel for predictions without further training.\n"
     ]
    }
   ],
   "source": [
    "#loading pre-trained gpt2 tokenizer and gpt2 model\n",
    "from transformers import GPT2Tokenizer,TFGPT2LMHeadModel\n",
    "tokenizer=GPT2Tokenizer.from_pretrained(\"gpt2\")\n",
    "tf_gpt2_model=TFGPT2LMHeadModel.from_pretrained(\"gpt2\")"
   ]
  },
  {
   "cell_type": "code",
   "execution_count": 24,
   "id": "e70878b0",
   "metadata": {},
   "outputs": [
    {
     "data": {
      "application/vnd.jupyter.widget-view+json": {
       "model_id": "8d2f75c901844c6b9a23297c2e8c9fe4",
       "version_major": 2,
       "version_minor": 0
      },
      "text/plain": [
       "  0%|          | 0/5003 [00:00<?, ?it/s]"
      ]
     },
     "metadata": {},
     "output_type": "display_data"
    },
    {
     "name": "stderr",
     "output_type": "stream",
     "text": [
      "Token indices sequence length is longer than the specified maximum sequence length for this model (1031 > 1024). Running this sequence through the model will result in indexing errors\n"
     ]
    }
   ],
   "source": [
    "qa['gpt_data']=qa.progress_apply(lambda x: preparing_gpt_training_data(x.question,x.answer,x.Q_FFNN_embeds),axis=1)"
   ]
  },
  {
   "cell_type": "code",
   "execution_count": 26,
   "id": "035ca2ef",
   "metadata": {},
   "outputs": [
    {
     "data": {
      "application/vnd.jupyter.widget-view+json": {
       "model_id": "b1328d24c9ac43a5b0f2ff3df049d0cb",
       "version_major": 2,
       "version_minor": 0
      },
      "text/plain": [
       "  0%|          | 0/504 [00:00<?, ?it/s]"
      ]
     },
     "metadata": {},
     "output_type": "display_data"
    }
   ],
   "source": [
    "validation_gpt_data['gpt_data']=validation_gpt_data.progress_apply(lambda x: preparing_gpt_training_data(x.question,x.answer,x.Q_FFNN_embeds),axis=1)\n",
    "     "
   ]
  },
  {
   "cell_type": "code",
   "execution_count": 27,
   "id": "2aa608fd",
   "metadata": {},
   "outputs": [],
   "source": [
    "#function to get the start of positive mask to be used while creating the masks\n",
    "def mask_start(gpt_data):\n",
    "  return 1024-gpt_data[::-1].index(4600)+1"
   ]
  },
  {
   "cell_type": "code",
   "execution_count": 28,
   "id": "12201343",
   "metadata": {},
   "outputs": [
    {
     "data": {
      "application/vnd.jupyter.widget-view+json": {
       "model_id": "c02f9c031a3b4da793c808bee99cc2b5",
       "version_major": 2,
       "version_minor": 0
      },
      "text/plain": [
       "  0%|          | 0/5003 [00:00<?, ?it/s]"
      ]
     },
     "metadata": {},
     "output_type": "display_data"
    }
   ],
   "source": [
    "\n",
    "#finding the mask start for the train dataset\n",
    "qa['mask_start']=qa.gpt_data.progress_apply(lambda x: mask_start(x))"
   ]
  },
  {
   "cell_type": "code",
   "execution_count": 29,
   "id": "e2528d5a",
   "metadata": {},
   "outputs": [
    {
     "data": {
      "application/vnd.jupyter.widget-view+json": {
       "model_id": "59311b2e2dd54c37b1bf2281b379c8b0",
       "version_major": 2,
       "version_minor": 0
      },
      "text/plain": [
       "  0%|          | 0/504 [00:00<?, ?it/s]"
      ]
     },
     "metadata": {},
     "output_type": "display_data"
    }
   ],
   "source": [
    "\n",
    "#finding the mask start for the validation dataset\n",
    "validation_gpt_data['mask_start']=validation_gpt_data.gpt_data.progress_apply(lambda x: mask_start(x))"
   ]
  },
  {
   "cell_type": "code",
   "execution_count": 30,
   "id": "220100d1",
   "metadata": {},
   "outputs": [],
   "source": [
    "#saving train data to disk\n",
    "qa.to_pickle('./qa_gpt_inbuild.pkl')\n",
    "     "
   ]
  },
  {
   "cell_type": "code",
   "execution_count": 31,
   "id": "826f932e",
   "metadata": {},
   "outputs": [],
   "source": [
    "\n",
    "#finding length of the gpt data for train dataset\n",
    "qa['gpt_lens']=qa.gpt_data.apply(lambda x: len(x))"
   ]
  },
  {
   "cell_type": "code",
   "execution_count": 32,
   "id": "c21c9ffb",
   "metadata": {},
   "outputs": [],
   "source": [
    "#finding length of the gpt data for validation dataset\n",
    "validation_gpt_data['gpt_lens']=validation_gpt_data.gpt_data.apply(lambda x: len(x))"
   ]
  },
  {
   "cell_type": "code",
   "execution_count": 33,
   "id": "e86bbb28",
   "metadata": {},
   "outputs": [
    {
     "data": {
      "text/plain": [
       "(54, 7)"
      ]
     },
     "execution_count": 33,
     "metadata": {},
     "output_type": "execute_result"
    }
   ],
   "source": [
    "\n",
    "#finding number of train datapoints that has sequence length less than 1024\n",
    "qa[qa.gpt_lens<1024].shape"
   ]
  },
  {
   "cell_type": "code",
   "execution_count": 34,
   "id": "02c0094e",
   "metadata": {},
   "outputs": [
    {
     "data": {
      "text/plain": [
       "(1, 7)"
      ]
     },
     "execution_count": 34,
     "metadata": {},
     "output_type": "execute_result"
    }
   ],
   "source": [
    "#finding number of validation datapoints that has sequence length less than 1024\n",
    "validation_gpt_data[validation_gpt_data.gpt_lens<1024].shape\n",
    "     "
   ]
  },
  {
   "cell_type": "code",
   "execution_count": 35,
   "id": "fad763aa",
   "metadata": {},
   "outputs": [
    {
     "data": {
      "text/plain": [
       "(4949, 7)"
      ]
     },
     "execution_count": 35,
     "metadata": {},
     "output_type": "execute_result"
    }
   ],
   "source": [
    "\n",
    "#finding train datapoints that has sequence length of 1024\n",
    "gpt_data_cleaned=qa[qa.gpt_lens==1024]\n",
    "gpt_data_cleaned.shape"
   ]
  },
  {
   "cell_type": "code",
   "execution_count": 36,
   "id": "7c5df0bf",
   "metadata": {},
   "outputs": [
    {
     "data": {
      "text/plain": [
       "(503, 7)"
      ]
     },
     "execution_count": 36,
     "metadata": {},
     "output_type": "execute_result"
    }
   ],
   "source": [
    "#finding validation datapoints that has sequence length of 1024\n",
    "validation_gpt_data_cleaned=validation_gpt_data[validation_gpt_data.gpt_lens==1024]\n",
    "validation_gpt_data_cleaned.shape"
   ]
  },
  {
   "cell_type": "code",
   "execution_count": 37,
   "id": "bec5720a",
   "metadata": {},
   "outputs": [],
   "source": [
    "\n",
    "#function to create the loss mask given mask start\n",
    "def return_loss_mask(mask_start):\n",
    "  return [0]*mask_start+[1]*(1024-mask_start)\n",
    "     "
   ]
  },
  {
   "cell_type": "code",
   "execution_count": 38,
   "id": "b3f63de5",
   "metadata": {},
   "outputs": [
    {
     "name": "stderr",
     "output_type": "stream",
     "text": [
      "C:\\Users\\manis\\AppData\\Local\\Temp\\ipykernel_9768\\2211518662.py:2: SettingWithCopyWarning: \n",
      "A value is trying to be set on a copy of a slice from a DataFrame.\n",
      "Try using .loc[row_indexer,col_indexer] = value instead\n",
      "\n",
      "See the caveats in the documentation: https://pandas.pydata.org/pandas-docs/stable/user_guide/indexing.html#returning-a-view-versus-a-copy\n",
      "  gpt_data_cleaned['mask']=gpt_data_cleaned.mask_start.apply(lambda x: return_loss_mask(x))\n"
     ]
    }
   ],
   "source": [
    "#creating loss mask for train data\n",
    "gpt_data_cleaned['mask']=gpt_data_cleaned.mask_start.apply(lambda x: return_loss_mask(x))"
   ]
  },
  {
   "cell_type": "code",
   "execution_count": 39,
   "id": "801b6e22",
   "metadata": {},
   "outputs": [
    {
     "name": "stderr",
     "output_type": "stream",
     "text": [
      "C:\\Users\\manis\\AppData\\Local\\Temp\\ipykernel_9768\\3417697302.py:2: SettingWithCopyWarning: \n",
      "A value is trying to be set on a copy of a slice from a DataFrame.\n",
      "Try using .loc[row_indexer,col_indexer] = value instead\n",
      "\n",
      "See the caveats in the documentation: https://pandas.pydata.org/pandas-docs/stable/user_guide/indexing.html#returning-a-view-versus-a-copy\n",
      "  validation_gpt_data_cleaned['mask']=validation_gpt_data_cleaned.mask_start.apply(lambda x: return_loss_mask(x))\n"
     ]
    }
   ],
   "source": [
    "#creating loss mask for validation data\n",
    "validation_gpt_data_cleaned['mask']=validation_gpt_data_cleaned.mask_start.apply(lambda x: return_loss_mask(x))"
   ]
  },
  {
   "cell_type": "code",
   "execution_count": 40,
   "id": "91722297",
   "metadata": {},
   "outputs": [],
   "source": [
    "\n",
    "#saving train gpt data with loss mask to disk\n",
    "gpt_data_cleaned.to_pickle('./qa_gpt_inbuild_cleaned.pkl')"
   ]
  },
  {
   "cell_type": "code",
   "execution_count": 41,
   "id": "5112c6ad",
   "metadata": {},
   "outputs": [],
   "source": [
    "\n",
    "#saving validation gpt data with loss mask to disk\n",
    "validation_gpt_data_cleaned.to_pickle('./validation_gpt_inbuild_cleaned.pkl')"
   ]
  },
  {
   "cell_type": "code",
   "execution_count": 42,
   "id": "e50cc12e",
   "metadata": {},
   "outputs": [
    {
     "data": {
      "text/plain": [
       "((4949, 8), (503, 8))"
      ]
     },
     "execution_count": 42,
     "metadata": {},
     "output_type": "execute_result"
    }
   ],
   "source": [
    "#loading gpt train and validation data from disk\n",
    "gpt_data_cleaned=pd.read_pickle('./qa_gpt_inbuild_cleaned.pkl')\n",
    "validation_gpt_data_cleaned=pd.read_pickle('./validation_gpt_inbuild_cleaned.pkl')\n",
    "gpt_data_cleaned.shape,validation_gpt_data_cleaned.shape"
   ]
  },
  {
   "cell_type": "code",
   "execution_count": 44,
   "id": "188d6aeb",
   "metadata": {},
   "outputs": [
    {
     "data": {
      "text/plain": [
       "(4949, 1024)"
      ]
     },
     "execution_count": 44,
     "metadata": {},
     "output_type": "execute_result"
    }
   ],
   "source": [
    "#extracting gpt data for train data\n",
    "gpt_data=[]\n",
    "for i in gpt_data_cleaned.gpt_data.values:\n",
    "  gpt_data.append(i)\n",
    "gpt_data=np.array(gpt_data)\n",
    "gpt_data.shape"
   ]
  },
  {
   "cell_type": "code",
   "execution_count": 45,
   "id": "4657070d",
   "metadata": {},
   "outputs": [
    {
     "data": {
      "text/plain": [
       "(503, 1024)"
      ]
     },
     "execution_count": 45,
     "metadata": {},
     "output_type": "execute_result"
    }
   ],
   "source": [
    "#extracting gpt data for validation data\n",
    "validation_gpt_data=[]\n",
    "for i in validation_gpt_data_cleaned.gpt_data.values:\n",
    "  validation_gpt_data.append(i)\n",
    "validation_gpt_data=np.array(validation_gpt_data)\n",
    "validation_gpt_data.shape"
   ]
  },
  {
   "cell_type": "code",
   "execution_count": 46,
   "id": "e896246c",
   "metadata": {},
   "outputs": [
    {
     "data": {
      "text/plain": [
       "(4949, 1024)"
      ]
     },
     "execution_count": 46,
     "metadata": {},
     "output_type": "execute_result"
    }
   ],
   "source": [
    "#extracting loss mask for train data\n",
    "loss_mask=[]\n",
    "for i in gpt_data_cleaned['mask'].values:\n",
    "  loss_mask.append(i)\n",
    "loss_mask=np.array(loss_mask)\n",
    "loss_mask.shape\n",
    "     "
   ]
  },
  {
   "cell_type": "code",
   "execution_count": 47,
   "id": "2426e6e4",
   "metadata": {},
   "outputs": [
    {
     "data": {
      "text/plain": [
       "(503, 1024)"
      ]
     },
     "execution_count": 47,
     "metadata": {},
     "output_type": "execute_result"
    }
   ],
   "source": [
    "#extracting loss mask for validation data\n",
    "validation_loss_mask=[]\n",
    "for i in validation_gpt_data_cleaned['mask'].values:\n",
    "  validation_loss_mask.append(i)\n",
    "validation_loss_mask=np.array(validation_loss_mask)\n",
    "validation_loss_mask.shape"
   ]
  },
  {
   "cell_type": "code",
   "execution_count": 48,
   "id": "9eedda27",
   "metadata": {},
   "outputs": [],
   "source": [
    "\n",
    "#https://blog.tensorflow.org/2019/05/transformer-chatbot-tutorial-with-tensorflow-2.html\n",
    "#preparing the gpt train dataset\n",
    "import tensorflow as tf\n",
    "BATCH_SIZE = 1\n",
    "BUFFER_SIZE = 20000\n",
    "gpt_train_dataset = tf.data.Dataset.from_tensor_slices((\n",
    "    {\n",
    "        'context': gpt_data,\n",
    "\n",
    "        'label': gpt_data[:,1:],\n",
    "        'loss_mask':loss_mask[:,:-1]\n",
    "    },\n",
    "))\n",
    "\n",
    "\n",
    "gpt_train_dataset = gpt_train_dataset.shuffle(BUFFER_SIZE)\n",
    "gpt_train_dataset = gpt_train_dataset.batch(BATCH_SIZE)\n",
    "gpt_train_dataset = gpt_train_dataset.prefetch(tf.data.experimental.AUTOTUNE)\n",
    "     "
   ]
  },
  {
   "cell_type": "code",
   "execution_count": 49,
   "id": "2b971d7e",
   "metadata": {},
   "outputs": [],
   "source": [
    "#https://blog.tensorflow.org/2019/05/transformer-chatbot-tutorial-with-tensorflow-2.html\n",
    "#preparing the gpt validation dataset\n",
    "import tensorflow as tf\n",
    "BATCH_SIZE = 1\n",
    "BUFFER_SIZE = 20000\n",
    "validation_gpt_train_dataset = tf.data.Dataset.from_tensor_slices((\n",
    "    {\n",
    "        'context': validation_gpt_data,\n",
    "\n",
    "        'label': validation_gpt_data[:,1:],\n",
    "        'loss_mask':validation_loss_mask[:,:-1]\n",
    "    },\n",
    "))\n",
    "\n",
    "validation_gpt_train_dataset = validation_gpt_train_dataset.shuffle(BUFFER_SIZE)\n",
    "validation_gpt_train_dataset = validation_gpt_train_dataset.batch(BATCH_SIZE)\n",
    "validation_gpt_train_dataset = validation_gpt_train_dataset.prefetch(tf.data.experimental.AUTOTUNE)\n",
    "     "
   ]
  },
  {
   "cell_type": "code",
   "execution_count": 50,
   "id": "0c472273",
   "metadata": {},
   "outputs": [
    {
     "data": {
      "text/plain": [
       "({'context': <tf.Tensor: shape=(1, 1024), dtype=int32, numpy=array([[ 423,  407, 1760, ...,  714, 1037,  517]])>,\n",
       "  'label': <tf.Tensor: shape=(1, 1023), dtype=int32, numpy=array([[ 407, 1760,  616, ...,  714, 1037,  517]])>,\n",
       "  'loss_mask': <tf.Tensor: shape=(1, 1023), dtype=int32, numpy=array([[0, 0, 0, ..., 1, 1, 1]])>},)"
      ]
     },
     "execution_count": 50,
     "metadata": {},
     "output_type": "execute_result"
    }
   ],
   "source": [
    "\n",
    "#displaying sample gpt training data\n",
    "next(iter(gpt_train_dataset))\n",
    "     "
   ]
  },
  {
   "cell_type": "code",
   "execution_count": 51,
   "id": "8728f712",
   "metadata": {},
   "outputs": [
    {
     "name": "stdout",
     "output_type": "stream",
     "text": [
      "epoch 0\n"
     ]
    },
    {
     "name": "stderr",
     "output_type": "stream",
     "text": [
      "  1%|▊                                                                             | 49/4949 [04:08<6:30:11,  4.78s/it]"
     ]
    },
    {
     "name": "stdout",
     "output_type": "stream",
     "text": [
      "tf.Tensor(497.96515, shape=(), dtype=float32)\n"
     ]
    },
    {
     "name": "stderr",
     "output_type": "stream",
     "text": [
      "  2%|█▌                                                                            | 99/4949 [08:13<6:20:53,  4.71s/it]"
     ]
    },
    {
     "name": "stdout",
     "output_type": "stream",
     "text": [
      "tf.Tensor(384.63486, shape=(), dtype=float32)\n"
     ]
    },
    {
     "name": "stderr",
     "output_type": "stream",
     "text": [
      "  3%|██▎                                                                          | 149/4949 [12:19<6:11:32,  4.64s/it]"
     ]
    },
    {
     "name": "stdout",
     "output_type": "stream",
     "text": [
      "tf.Tensor(400.5328, shape=(), dtype=float32)\n"
     ]
    },
    {
     "name": "stderr",
     "output_type": "stream",
     "text": [
      "  4%|███                                                                          | 199/4949 [16:23<6:11:25,  4.69s/it]"
     ]
    },
    {
     "name": "stdout",
     "output_type": "stream",
     "text": [
      "tf.Tensor(370.24014, shape=(), dtype=float32)\n"
     ]
    },
    {
     "name": "stderr",
     "output_type": "stream",
     "text": [
      "  5%|███▊                                                                         | 249/4949 [20:35<6:13:15,  4.76s/it]"
     ]
    },
    {
     "name": "stdout",
     "output_type": "stream",
     "text": [
      "tf.Tensor(500.93015, shape=(), dtype=float32)\n"
     ]
    },
    {
     "name": "stderr",
     "output_type": "stream",
     "text": [
      "  6%|████▋                                                                        | 299/4949 [24:44<6:14:13,  4.83s/it]"
     ]
    },
    {
     "name": "stdout",
     "output_type": "stream",
     "text": [
      "tf.Tensor(330.01758, shape=(), dtype=float32)\n"
     ]
    },
    {
     "name": "stderr",
     "output_type": "stream",
     "text": [
      "  7%|█████▍                                                                       | 349/4949 [28:51<6:23:26,  5.00s/it]"
     ]
    },
    {
     "name": "stdout",
     "output_type": "stream",
     "text": [
      "tf.Tensor(412.23483, shape=(), dtype=float32)\n"
     ]
    },
    {
     "name": "stderr",
     "output_type": "stream",
     "text": [
      "  8%|██████▏                                                                      | 399/4949 [32:57<6:09:36,  4.87s/it]"
     ]
    },
    {
     "name": "stdout",
     "output_type": "stream",
     "text": [
      "tf.Tensor(425.42566, shape=(), dtype=float32)\n"
     ]
    },
    {
     "name": "stderr",
     "output_type": "stream",
     "text": [
      "  9%|██████▉                                                                      | 449/4949 [37:06<6:01:36,  4.82s/it]"
     ]
    },
    {
     "name": "stdout",
     "output_type": "stream",
     "text": [
      "tf.Tensor(349.67508, shape=(), dtype=float32)\n"
     ]
    },
    {
     "name": "stderr",
     "output_type": "stream",
     "text": [
      " 10%|███████▊                                                                     | 499/4949 [41:11<5:46:16,  4.67s/it]"
     ]
    },
    {
     "name": "stdout",
     "output_type": "stream",
     "text": [
      "tf.Tensor(333.39423, shape=(), dtype=float32)\n"
     ]
    },
    {
     "name": "stderr",
     "output_type": "stream",
     "text": [
      " 11%|████████▌                                                                    | 549/4949 [45:15<5:43:28,  4.68s/it]"
     ]
    },
    {
     "name": "stdout",
     "output_type": "stream",
     "text": [
      "tf.Tensor(389.4888, shape=(), dtype=float32)\n"
     ]
    },
    {
     "name": "stderr",
     "output_type": "stream",
     "text": [
      " 12%|█████████▎                                                                   | 599/4949 [49:17<5:41:27,  4.71s/it]"
     ]
    },
    {
     "name": "stdout",
     "output_type": "stream",
     "text": [
      "tf.Tensor(446.5237, shape=(), dtype=float32)\n"
     ]
    },
    {
     "name": "stderr",
     "output_type": "stream",
     "text": [
      " 13%|██████████                                                                   | 649/4949 [53:18<5:33:04,  4.65s/it]"
     ]
    },
    {
     "name": "stdout",
     "output_type": "stream",
     "text": [
      "tf.Tensor(355.37863, shape=(), dtype=float32)\n"
     ]
    },
    {
     "name": "stderr",
     "output_type": "stream",
     "text": [
      " 14%|██████████▉                                                                  | 699/4949 [57:17<5:28:28,  4.64s/it]"
     ]
    },
    {
     "name": "stdout",
     "output_type": "stream",
     "text": [
      "tf.Tensor(443.5714, shape=(), dtype=float32)\n"
     ]
    },
    {
     "name": "stderr",
     "output_type": "stream",
     "text": [
      " 15%|███████████▎                                                               | 749/4949 [1:01:17<5:22:57,  4.61s/it]"
     ]
    },
    {
     "name": "stdout",
     "output_type": "stream",
     "text": [
      "tf.Tensor(317.95282, shape=(), dtype=float32)\n"
     ]
    },
    {
     "name": "stderr",
     "output_type": "stream",
     "text": [
      " 16%|████████████                                                               | 799/4949 [1:05:18<5:22:04,  4.66s/it]"
     ]
    },
    {
     "name": "stdout",
     "output_type": "stream",
     "text": [
      "tf.Tensor(442.6173, shape=(), dtype=float32)\n"
     ]
    },
    {
     "name": "stderr",
     "output_type": "stream",
     "text": [
      " 17%|████████████▊                                                              | 849/4949 [1:09:18<5:17:56,  4.65s/it]"
     ]
    },
    {
     "name": "stdout",
     "output_type": "stream",
     "text": [
      "tf.Tensor(317.94595, shape=(), dtype=float32)\n"
     ]
    },
    {
     "name": "stderr",
     "output_type": "stream",
     "text": [
      " 18%|█████████████▌                                                             | 899/4949 [1:13:18<5:13:20,  4.64s/it]"
     ]
    },
    {
     "name": "stdout",
     "output_type": "stream",
     "text": [
      "tf.Tensor(385.86124, shape=(), dtype=float32)\n"
     ]
    },
    {
     "name": "stderr",
     "output_type": "stream",
     "text": [
      " 19%|██████████████▍                                                            | 949/4949 [1:17:19<5:10:59,  4.66s/it]"
     ]
    },
    {
     "name": "stdout",
     "output_type": "stream",
     "text": [
      "tf.Tensor(392.66824, shape=(), dtype=float32)\n"
     ]
    },
    {
     "name": "stderr",
     "output_type": "stream",
     "text": [
      " 20%|███████████████▏                                                           | 999/4949 [1:21:19<5:04:50,  4.63s/it]"
     ]
    },
    {
     "name": "stdout",
     "output_type": "stream",
     "text": [
      "tf.Tensor(338.4593, shape=(), dtype=float32)\n"
     ]
    },
    {
     "name": "stderr",
     "output_type": "stream",
     "text": [
      " 21%|███████████████▋                                                          | 1049/4949 [1:25:21<5:01:21,  4.64s/it]"
     ]
    },
    {
     "name": "stdout",
     "output_type": "stream",
     "text": [
      "tf.Tensor(328.72263, shape=(), dtype=float32)\n"
     ]
    },
    {
     "name": "stderr",
     "output_type": "stream",
     "text": [
      " 22%|████████████████▍                                                         | 1099/4949 [1:29:22<5:04:12,  4.74s/it]"
     ]
    },
    {
     "name": "stdout",
     "output_type": "stream",
     "text": [
      "tf.Tensor(391.1426, shape=(), dtype=float32)\n"
     ]
    },
    {
     "name": "stderr",
     "output_type": "stream",
     "text": [
      " 23%|█████████████████▏                                                        | 1149/4949 [1:33:30<5:04:26,  4.81s/it]"
     ]
    },
    {
     "name": "stdout",
     "output_type": "stream",
     "text": [
      "tf.Tensor(369.96902, shape=(), dtype=float32)\n"
     ]
    },
    {
     "name": "stderr",
     "output_type": "stream",
     "text": [
      " 24%|█████████████████▉                                                        | 1199/4949 [1:37:40<5:05:44,  4.89s/it]"
     ]
    },
    {
     "name": "stdout",
     "output_type": "stream",
     "text": [
      "tf.Tensor(278.24466, shape=(), dtype=float32)\n"
     ]
    },
    {
     "name": "stderr",
     "output_type": "stream",
     "text": [
      " 25%|██████████████████▋                                                       | 1249/4949 [1:41:48<4:53:04,  4.75s/it]"
     ]
    },
    {
     "name": "stdout",
     "output_type": "stream",
     "text": [
      "tf.Tensor(426.24377, shape=(), dtype=float32)\n"
     ]
    },
    {
     "name": "stderr",
     "output_type": "stream",
     "text": [
      " 26%|███████████████████▍                                                      | 1299/4949 [1:45:49<4:30:21,  4.44s/it]"
     ]
    },
    {
     "name": "stdout",
     "output_type": "stream",
     "text": [
      "tf.Tensor(357.11356, shape=(), dtype=float32)\n"
     ]
    },
    {
     "name": "stderr",
     "output_type": "stream",
     "text": [
      " 27%|████████████████████▏                                                     | 1349/4949 [1:49:40<4:38:52,  4.65s/it]"
     ]
    },
    {
     "name": "stdout",
     "output_type": "stream",
     "text": [
      "tf.Tensor(366.20813, shape=(), dtype=float32)\n"
     ]
    },
    {
     "name": "stderr",
     "output_type": "stream",
     "text": [
      " 28%|████████████████████▉                                                     | 1399/4949 [1:53:28<4:19:37,  4.39s/it]"
     ]
    },
    {
     "name": "stdout",
     "output_type": "stream",
     "text": [
      "tf.Tensor(409.06335, shape=(), dtype=float32)\n"
     ]
    },
    {
     "name": "stderr",
     "output_type": "stream",
     "text": [
      " 29%|█████████████████████▋                                                    | 1449/4949 [1:57:16<4:46:50,  4.92s/it]"
     ]
    },
    {
     "name": "stdout",
     "output_type": "stream",
     "text": [
      "tf.Tensor(402.1869, shape=(), dtype=float32)\n"
     ]
    },
    {
     "name": "stderr",
     "output_type": "stream",
     "text": [
      " 30%|██████████████████████▍                                                   | 1499/4949 [2:01:05<4:13:28,  4.41s/it]"
     ]
    },
    {
     "name": "stdout",
     "output_type": "stream",
     "text": [
      "tf.Tensor(417.61383, shape=(), dtype=float32)\n"
     ]
    },
    {
     "name": "stderr",
     "output_type": "stream",
     "text": [
      " 31%|███████████████████████▏                                                  | 1549/4949 [2:04:56<4:14:12,  4.49s/it]"
     ]
    },
    {
     "name": "stdout",
     "output_type": "stream",
     "text": [
      "tf.Tensor(345.27893, shape=(), dtype=float32)\n"
     ]
    },
    {
     "name": "stderr",
     "output_type": "stream",
     "text": [
      " 32%|███████████████████████▉                                                  | 1599/4949 [2:08:45<4:10:13,  4.48s/it]"
     ]
    },
    {
     "name": "stdout",
     "output_type": "stream",
     "text": [
      "tf.Tensor(425.90118, shape=(), dtype=float32)\n"
     ]
    },
    {
     "name": "stderr",
     "output_type": "stream",
     "text": [
      " 33%|████████████████████████▋                                                 | 1649/4949 [2:12:36<4:04:12,  4.44s/it]"
     ]
    },
    {
     "name": "stdout",
     "output_type": "stream",
     "text": [
      "tf.Tensor(338.26282, shape=(), dtype=float32)\n"
     ]
    },
    {
     "name": "stderr",
     "output_type": "stream",
     "text": [
      " 34%|█████████████████████████▍                                                | 1699/4949 [2:16:26<4:00:04,  4.43s/it]"
     ]
    },
    {
     "name": "stdout",
     "output_type": "stream",
     "text": [
      "tf.Tensor(457.87463, shape=(), dtype=float32)\n"
     ]
    },
    {
     "name": "stderr",
     "output_type": "stream",
     "text": [
      " 35%|██████████████████████████▏                                               | 1749/4949 [2:20:17<3:55:59,  4.42s/it]"
     ]
    },
    {
     "name": "stdout",
     "output_type": "stream",
     "text": [
      "tf.Tensor(393.09344, shape=(), dtype=float32)\n"
     ]
    },
    {
     "name": "stderr",
     "output_type": "stream",
     "text": [
      " 36%|██████████████████████████▉                                               | 1799/4949 [2:24:10<3:51:01,  4.40s/it]"
     ]
    },
    {
     "name": "stdout",
     "output_type": "stream",
     "text": [
      "tf.Tensor(420.3781, shape=(), dtype=float32)\n"
     ]
    },
    {
     "name": "stderr",
     "output_type": "stream",
     "text": [
      " 37%|███████████████████████████▋                                              | 1849/4949 [2:27:59<3:47:49,  4.41s/it]"
     ]
    },
    {
     "name": "stdout",
     "output_type": "stream",
     "text": [
      "tf.Tensor(396.62692, shape=(), dtype=float32)\n"
     ]
    },
    {
     "name": "stderr",
     "output_type": "stream",
     "text": [
      " 38%|████████████████████████████▍                                             | 1899/4949 [2:31:49<3:44:45,  4.42s/it]"
     ]
    },
    {
     "name": "stdout",
     "output_type": "stream",
     "text": [
      "tf.Tensor(444.51157, shape=(), dtype=float32)\n"
     ]
    },
    {
     "name": "stderr",
     "output_type": "stream",
     "text": [
      " 39%|█████████████████████████████▏                                            | 1949/4949 [2:35:43<3:42:20,  4.45s/it]"
     ]
    },
    {
     "name": "stdout",
     "output_type": "stream",
     "text": [
      "tf.Tensor(431.2471, shape=(), dtype=float32)\n"
     ]
    },
    {
     "name": "stderr",
     "output_type": "stream",
     "text": [
      " 40%|█████████████████████████████▉                                            | 1999/4949 [2:39:34<3:43:14,  4.54s/it]"
     ]
    },
    {
     "name": "stdout",
     "output_type": "stream",
     "text": [
      "tf.Tensor(450.29022, shape=(), dtype=float32)\n"
     ]
    },
    {
     "name": "stderr",
     "output_type": "stream",
     "text": [
      " 41%|██████████████████████████████▋                                           | 2049/4949 [2:44:10<4:31:36,  5.62s/it]"
     ]
    },
    {
     "name": "stdout",
     "output_type": "stream",
     "text": [
      "tf.Tensor(375.19165, shape=(), dtype=float32)\n"
     ]
    },
    {
     "name": "stderr",
     "output_type": "stream",
     "text": [
      " 42%|███████████████████████████████▍                                          | 2099/4949 [2:48:19<3:38:55,  4.61s/it]"
     ]
    },
    {
     "name": "stdout",
     "output_type": "stream",
     "text": [
      "tf.Tensor(329.60822, shape=(), dtype=float32)\n"
     ]
    },
    {
     "name": "stderr",
     "output_type": "stream",
     "text": [
      " 43%|████████████████████████████████▏                                         | 2149/4949 [2:52:17<3:34:31,  4.60s/it]"
     ]
    },
    {
     "name": "stdout",
     "output_type": "stream",
     "text": [
      "tf.Tensor(413.21036, shape=(), dtype=float32)\n"
     ]
    },
    {
     "name": "stderr",
     "output_type": "stream",
     "text": [
      " 44%|████████████████████████████████▉                                         | 2199/4949 [2:56:18<3:31:56,  4.62s/it]"
     ]
    },
    {
     "name": "stdout",
     "output_type": "stream",
     "text": [
      "tf.Tensor(420.6994, shape=(), dtype=float32)\n"
     ]
    },
    {
     "name": "stderr",
     "output_type": "stream",
     "text": [
      " 45%|█████████████████████████████████▋                                        | 2249/4949 [3:00:16<3:28:13,  4.63s/it]"
     ]
    },
    {
     "name": "stdout",
     "output_type": "stream",
     "text": [
      "tf.Tensor(401.29575, shape=(), dtype=float32)\n"
     ]
    },
    {
     "name": "stderr",
     "output_type": "stream",
     "text": [
      " 46%|██████████████████████████████████▍                                       | 2299/4949 [3:04:15<3:23:10,  4.60s/it]"
     ]
    },
    {
     "name": "stdout",
     "output_type": "stream",
     "text": [
      "tf.Tensor(390.10202, shape=(), dtype=float32)\n"
     ]
    },
    {
     "name": "stderr",
     "output_type": "stream",
     "text": [
      " 47%|███████████████████████████████████                                       | 2349/4949 [3:08:12<3:17:50,  4.57s/it]"
     ]
    },
    {
     "name": "stdout",
     "output_type": "stream",
     "text": [
      "tf.Tensor(358.27454, shape=(), dtype=float32)\n"
     ]
    },
    {
     "name": "stderr",
     "output_type": "stream",
     "text": [
      " 48%|███████████████████████████████████▊                                      | 2399/4949 [3:12:14<3:20:25,  4.72s/it]"
     ]
    },
    {
     "name": "stdout",
     "output_type": "stream",
     "text": [
      "tf.Tensor(344.6356, shape=(), dtype=float32)\n"
     ]
    },
    {
     "name": "stderr",
     "output_type": "stream",
     "text": [
      " 49%|████████████████████████████████████▌                                     | 2449/4949 [3:16:26<3:49:21,  5.50s/it]"
     ]
    },
    {
     "name": "stdout",
     "output_type": "stream",
     "text": [
      "tf.Tensor(411.663, shape=(), dtype=float32)\n"
     ]
    },
    {
     "name": "stderr",
     "output_type": "stream",
     "text": [
      " 50%|█████████████████████████████████████▎                                    | 2499/4949 [3:21:33<3:59:11,  5.86s/it]"
     ]
    },
    {
     "name": "stdout",
     "output_type": "stream",
     "text": [
      "tf.Tensor(365.70352, shape=(), dtype=float32)\n"
     ]
    },
    {
     "name": "stderr",
     "output_type": "stream",
     "text": [
      " 52%|██████████████████████████████████████                                    | 2549/4949 [3:26:15<3:07:37,  4.69s/it]"
     ]
    },
    {
     "name": "stdout",
     "output_type": "stream",
     "text": [
      "tf.Tensor(352.98837, shape=(), dtype=float32)\n"
     ]
    },
    {
     "name": "stderr",
     "output_type": "stream",
     "text": [
      " 53%|██████████████████████████████████████▊                                   | 2599/4949 [3:30:18<3:06:07,  4.75s/it]"
     ]
    },
    {
     "name": "stdout",
     "output_type": "stream",
     "text": [
      "tf.Tensor(375.19293, shape=(), dtype=float32)\n"
     ]
    },
    {
     "name": "stderr",
     "output_type": "stream",
     "text": [
      " 54%|███████████████████████████████████████▌                                  | 2649/4949 [3:34:18<3:05:48,  4.85s/it]"
     ]
    },
    {
     "name": "stdout",
     "output_type": "stream",
     "text": [
      "tf.Tensor(313.02286, shape=(), dtype=float32)\n"
     ]
    },
    {
     "name": "stderr",
     "output_type": "stream",
     "text": [
      " 55%|████████████████████████████████████████▎                                 | 2699/4949 [3:38:19<2:52:27,  4.60s/it]"
     ]
    },
    {
     "name": "stdout",
     "output_type": "stream",
     "text": [
      "tf.Tensor(283.46005, shape=(), dtype=float32)\n"
     ]
    },
    {
     "name": "stderr",
     "output_type": "stream",
     "text": [
      " 56%|█████████████████████████████████████████                                 | 2749/4949 [3:42:21<2:48:27,  4.59s/it]"
     ]
    },
    {
     "name": "stdout",
     "output_type": "stream",
     "text": [
      "tf.Tensor(365.62833, shape=(), dtype=float32)\n"
     ]
    },
    {
     "name": "stderr",
     "output_type": "stream",
     "text": [
      " 57%|█████████████████████████████████████████▊                                | 2799/4949 [3:46:19<2:43:52,  4.57s/it]"
     ]
    },
    {
     "name": "stdout",
     "output_type": "stream",
     "text": [
      "tf.Tensor(407.7548, shape=(), dtype=float32)\n"
     ]
    },
    {
     "name": "stderr",
     "output_type": "stream",
     "text": [
      " 58%|██████████████████████████████████████████▌                               | 2849/4949 [3:50:18<2:42:48,  4.65s/it]"
     ]
    },
    {
     "name": "stdout",
     "output_type": "stream",
     "text": [
      "tf.Tensor(335.17728, shape=(), dtype=float32)\n"
     ]
    },
    {
     "name": "stderr",
     "output_type": "stream",
     "text": [
      " 59%|███████████████████████████████████████████▎                              | 2899/4949 [3:54:16<2:36:49,  4.59s/it]"
     ]
    },
    {
     "name": "stdout",
     "output_type": "stream",
     "text": [
      "tf.Tensor(409.28113, shape=(), dtype=float32)\n"
     ]
    },
    {
     "name": "stderr",
     "output_type": "stream",
     "text": [
      " 60%|████████████████████████████████████████████                              | 2949/4949 [3:58:13<2:32:37,  4.58s/it]"
     ]
    },
    {
     "name": "stdout",
     "output_type": "stream",
     "text": [
      "tf.Tensor(390.73062, shape=(), dtype=float32)\n"
     ]
    },
    {
     "name": "stderr",
     "output_type": "stream",
     "text": [
      " 61%|████████████████████████████████████████████▊                             | 2999/4949 [4:02:10<2:29:50,  4.61s/it]"
     ]
    },
    {
     "name": "stdout",
     "output_type": "stream",
     "text": [
      "tf.Tensor(426.93628, shape=(), dtype=float32)\n"
     ]
    },
    {
     "name": "stderr",
     "output_type": "stream",
     "text": [
      " 62%|█████████████████████████████████████████████▌                            | 3049/4949 [4:06:07<2:25:44,  4.60s/it]"
     ]
    },
    {
     "name": "stdout",
     "output_type": "stream",
     "text": [
      "tf.Tensor(343.3544, shape=(), dtype=float32)\n"
     ]
    },
    {
     "name": "stderr",
     "output_type": "stream",
     "text": [
      " 63%|██████████████████████████████████████████████▎                           | 3099/4949 [4:10:04<2:20:52,  4.57s/it]"
     ]
    },
    {
     "name": "stdout",
     "output_type": "stream",
     "text": [
      "tf.Tensor(325.1101, shape=(), dtype=float32)\n"
     ]
    },
    {
     "name": "stderr",
     "output_type": "stream",
     "text": [
      " 64%|███████████████████████████████████████████████                           | 3149/4949 [4:14:03<2:18:19,  4.61s/it]"
     ]
    },
    {
     "name": "stdout",
     "output_type": "stream",
     "text": [
      "tf.Tensor(347.08508, shape=(), dtype=float32)\n"
     ]
    },
    {
     "name": "stderr",
     "output_type": "stream",
     "text": [
      " 65%|███████████████████████████████████████████████▊                          | 3199/4949 [4:18:00<2:13:16,  4.57s/it]"
     ]
    },
    {
     "name": "stdout",
     "output_type": "stream",
     "text": [
      "tf.Tensor(364.7386, shape=(), dtype=float32)\n"
     ]
    },
    {
     "name": "stderr",
     "output_type": "stream",
     "text": [
      " 66%|████████████████████████████████████████████████▌                         | 3249/4949 [4:22:01<2:16:43,  4.83s/it]"
     ]
    },
    {
     "name": "stdout",
     "output_type": "stream",
     "text": [
      "tf.Tensor(355.4608, shape=(), dtype=float32)\n"
     ]
    },
    {
     "name": "stderr",
     "output_type": "stream",
     "text": [
      " 67%|█████████████████████████████████████████████████▎                        | 3299/4949 [4:26:00<2:06:05,  4.58s/it]"
     ]
    },
    {
     "name": "stdout",
     "output_type": "stream",
     "text": [
      "tf.Tensor(460.91263, shape=(), dtype=float32)\n"
     ]
    },
    {
     "name": "stderr",
     "output_type": "stream",
     "text": [
      " 68%|██████████████████████████████████████████████████                        | 3349/4949 [4:29:59<2:00:31,  4.52s/it]"
     ]
    },
    {
     "name": "stdout",
     "output_type": "stream",
     "text": [
      "tf.Tensor(465.20428, shape=(), dtype=float32)\n"
     ]
    },
    {
     "name": "stderr",
     "output_type": "stream",
     "text": [
      " 69%|██████████████████████████████████████████████████▊                       | 3399/4949 [4:33:55<1:56:59,  4.53s/it]"
     ]
    },
    {
     "name": "stdout",
     "output_type": "stream",
     "text": [
      "tf.Tensor(376.90845, shape=(), dtype=float32)\n"
     ]
    },
    {
     "name": "stderr",
     "output_type": "stream",
     "text": [
      " 70%|███████████████████████████████████████████████████▌                      | 3449/4949 [4:37:52<1:52:54,  4.52s/it]"
     ]
    },
    {
     "name": "stdout",
     "output_type": "stream",
     "text": [
      "tf.Tensor(369.74106, shape=(), dtype=float32)\n"
     ]
    },
    {
     "name": "stderr",
     "output_type": "stream",
     "text": [
      " 71%|████████████████████████████████████████████████████▎                     | 3499/4949 [4:41:46<1:49:11,  4.52s/it]"
     ]
    },
    {
     "name": "stdout",
     "output_type": "stream",
     "text": [
      "tf.Tensor(319.03613, shape=(), dtype=float32)\n"
     ]
    },
    {
     "name": "stderr",
     "output_type": "stream",
     "text": [
      " 72%|█████████████████████████████████████████████████████                     | 3549/4949 [4:45:43<1:46:32,  4.57s/it]"
     ]
    },
    {
     "name": "stdout",
     "output_type": "stream",
     "text": [
      "tf.Tensor(435.09818, shape=(), dtype=float32)\n"
     ]
    },
    {
     "name": "stderr",
     "output_type": "stream",
     "text": [
      " 73%|█████████████████████████████████████████████████████▊                    | 3599/4949 [4:49:39<1:42:26,  4.55s/it]"
     ]
    },
    {
     "name": "stdout",
     "output_type": "stream",
     "text": [
      "tf.Tensor(458.3142, shape=(), dtype=float32)\n"
     ]
    },
    {
     "name": "stderr",
     "output_type": "stream",
     "text": [
      " 74%|██████████████████████████████████████████████████████▌                   | 3649/4949 [4:53:39<1:36:51,  4.47s/it]"
     ]
    },
    {
     "name": "stdout",
     "output_type": "stream",
     "text": [
      "tf.Tensor(405.80875, shape=(), dtype=float32)\n"
     ]
    },
    {
     "name": "stderr",
     "output_type": "stream",
     "text": [
      " 75%|███████████████████████████████████████████████████████▎                  | 3699/4949 [4:57:38<1:36:23,  4.63s/it]"
     ]
    },
    {
     "name": "stdout",
     "output_type": "stream",
     "text": [
      "tf.Tensor(421.84232, shape=(), dtype=float32)\n"
     ]
    },
    {
     "name": "stderr",
     "output_type": "stream",
     "text": [
      " 76%|████████████████████████████████████████████████████████                  | 3749/4949 [5:01:33<1:31:14,  4.56s/it]"
     ]
    },
    {
     "name": "stdout",
     "output_type": "stream",
     "text": [
      "tf.Tensor(415.00348, shape=(), dtype=float32)\n"
     ]
    },
    {
     "name": "stderr",
     "output_type": "stream",
     "text": [
      " 77%|████████████████████████████████████████████████████████▊                 | 3799/4949 [5:05:30<1:26:53,  4.53s/it]"
     ]
    },
    {
     "name": "stdout",
     "output_type": "stream",
     "text": [
      "tf.Tensor(443.03897, shape=(), dtype=float32)\n"
     ]
    },
    {
     "name": "stderr",
     "output_type": "stream",
     "text": [
      " 78%|█████████████████████████████████████████████████████████▌                | 3849/4949 [5:09:26<1:26:14,  4.70s/it]"
     ]
    },
    {
     "name": "stdout",
     "output_type": "stream",
     "text": [
      "tf.Tensor(381.2192, shape=(), dtype=float32)\n"
     ]
    },
    {
     "name": "stderr",
     "output_type": "stream",
     "text": [
      " 79%|██████████████████████████████████████████████████████████▎               | 3899/4949 [5:13:21<1:19:40,  4.55s/it]"
     ]
    },
    {
     "name": "stdout",
     "output_type": "stream",
     "text": [
      "tf.Tensor(298.0725, shape=(), dtype=float32)\n"
     ]
    },
    {
     "name": "stderr",
     "output_type": "stream",
     "text": [
      " 80%|███████████████████████████████████████████████████████████               | 3949/4949 [5:17:21<1:19:03,  4.74s/it]"
     ]
    },
    {
     "name": "stdout",
     "output_type": "stream",
     "text": [
      "tf.Tensor(330.11673, shape=(), dtype=float32)\n"
     ]
    },
    {
     "name": "stderr",
     "output_type": "stream",
     "text": [
      " 81%|███████████████████████████████████████████████████████████▊              | 3999/4949 [5:21:24<1:13:25,  4.64s/it]"
     ]
    },
    {
     "name": "stdout",
     "output_type": "stream",
     "text": [
      "tf.Tensor(403.31363, shape=(), dtype=float32)\n"
     ]
    },
    {
     "name": "stderr",
     "output_type": "stream",
     "text": [
      " 82%|████████████████████████████████████████████████████████████▌             | 4049/4949 [5:25:27<1:12:59,  4.87s/it]"
     ]
    },
    {
     "name": "stdout",
     "output_type": "stream",
     "text": [
      "tf.Tensor(333.68372, shape=(), dtype=float32)\n"
     ]
    },
    {
     "name": "stderr",
     "output_type": "stream",
     "text": [
      " 83%|█████████████████████████████████████████████████████████████▎            | 4099/4949 [5:29:27<1:04:41,  4.57s/it]"
     ]
    },
    {
     "name": "stdout",
     "output_type": "stream",
     "text": [
      "tf.Tensor(350.9598, shape=(), dtype=float32)\n"
     ]
    },
    {
     "name": "stderr",
     "output_type": "stream",
     "text": [
      " 84%|██████████████████████████████████████████████████████████████            | 4149/4949 [5:33:24<1:00:27,  4.53s/it]"
     ]
    },
    {
     "name": "stdout",
     "output_type": "stream",
     "text": [
      "tf.Tensor(456.77493, shape=(), dtype=float32)\n"
     ]
    },
    {
     "name": "stderr",
     "output_type": "stream",
     "text": [
      " 85%|████████████████████████████████████████████████████████████████▍           | 4199/4949 [5:37:20<57:06,  4.57s/it]"
     ]
    },
    {
     "name": "stdout",
     "output_type": "stream",
     "text": [
      "tf.Tensor(436.23425, shape=(), dtype=float32)\n"
     ]
    },
    {
     "name": "stderr",
     "output_type": "stream",
     "text": [
      " 86%|█████████████████████████████████████████████████████████████████▎          | 4249/4949 [5:41:16<53:46,  4.61s/it]"
     ]
    },
    {
     "name": "stdout",
     "output_type": "stream",
     "text": [
      "tf.Tensor(431.308, shape=(), dtype=float32)\n"
     ]
    },
    {
     "name": "stderr",
     "output_type": "stream",
     "text": [
      " 87%|██████████████████████████████████████████████████████████████████          | 4299/4949 [5:45:15<49:10,  4.54s/it]"
     ]
    },
    {
     "name": "stdout",
     "output_type": "stream",
     "text": [
      "tf.Tensor(349.33707, shape=(), dtype=float32)\n"
     ]
    },
    {
     "name": "stderr",
     "output_type": "stream",
     "text": [
      " 88%|██████████████████████████████████████████████████████████████████▊         | 4349/4949 [5:49:10<45:21,  4.54s/it]"
     ]
    },
    {
     "name": "stdout",
     "output_type": "stream",
     "text": [
      "tf.Tensor(499.0071, shape=(), dtype=float32)\n"
     ]
    },
    {
     "name": "stderr",
     "output_type": "stream",
     "text": [
      " 89%|███████████████████████████████████████████████████████████████████▌        | 4399/4949 [5:53:09<41:36,  4.54s/it]"
     ]
    },
    {
     "name": "stdout",
     "output_type": "stream",
     "text": [
      "tf.Tensor(269.35388, shape=(), dtype=float32)\n"
     ]
    },
    {
     "name": "stderr",
     "output_type": "stream",
     "text": [
      " 90%|████████████████████████████████████████████████████████████████████▎       | 4449/4949 [5:57:07<38:10,  4.58s/it]"
     ]
    },
    {
     "name": "stdout",
     "output_type": "stream",
     "text": [
      "tf.Tensor(433.25427, shape=(), dtype=float32)\n"
     ]
    },
    {
     "name": "stderr",
     "output_type": "stream",
     "text": [
      " 91%|█████████████████████████████████████████████████████████████████████       | 4499/4949 [6:01:01<33:48,  4.51s/it]"
     ]
    },
    {
     "name": "stdout",
     "output_type": "stream",
     "text": [
      "tf.Tensor(392.92902, shape=(), dtype=float32)\n"
     ]
    },
    {
     "name": "stderr",
     "output_type": "stream",
     "text": [
      " 92%|█████████████████████████████████████████████████████████████████████▊      | 4549/4949 [6:04:57<30:16,  4.54s/it]"
     ]
    },
    {
     "name": "stdout",
     "output_type": "stream",
     "text": [
      "tf.Tensor(352.2395, shape=(), dtype=float32)\n"
     ]
    },
    {
     "name": "stderr",
     "output_type": "stream",
     "text": [
      " 93%|██████████████████████████████████████████████████████████████████████▋     | 4599/4949 [6:08:56<26:49,  4.60s/it]"
     ]
    },
    {
     "name": "stdout",
     "output_type": "stream",
     "text": [
      "tf.Tensor(346.57825, shape=(), dtype=float32)\n"
     ]
    },
    {
     "name": "stderr",
     "output_type": "stream",
     "text": [
      " 94%|███████████████████████████████████████████████████████████████████████▍    | 4649/4949 [6:12:55<22:37,  4.53s/it]"
     ]
    },
    {
     "name": "stdout",
     "output_type": "stream",
     "text": [
      "tf.Tensor(411.07724, shape=(), dtype=float32)\n"
     ]
    },
    {
     "name": "stderr",
     "output_type": "stream",
     "text": [
      " 95%|████████████████████████████████████████████████████████████████████████▏   | 4699/4949 [6:16:51<18:53,  4.53s/it]"
     ]
    },
    {
     "name": "stdout",
     "output_type": "stream",
     "text": [
      "tf.Tensor(375.90237, shape=(), dtype=float32)\n"
     ]
    },
    {
     "name": "stderr",
     "output_type": "stream",
     "text": [
      " 96%|████████████████████████████████████████████████████████████████████████▉   | 4749/4949 [6:20:48<15:33,  4.67s/it]"
     ]
    },
    {
     "name": "stdout",
     "output_type": "stream",
     "text": [
      "tf.Tensor(420.41165, shape=(), dtype=float32)\n"
     ]
    },
    {
     "name": "stderr",
     "output_type": "stream",
     "text": [
      " 97%|█████████████████████████████████████████████████████████████████████████▋  | 4799/4949 [6:24:51<12:06,  4.85s/it]"
     ]
    },
    {
     "name": "stdout",
     "output_type": "stream",
     "text": [
      "tf.Tensor(367.7257, shape=(), dtype=float32)\n"
     ]
    },
    {
     "name": "stderr",
     "output_type": "stream",
     "text": [
      " 98%|██████████████████████████████████████████████████████████████████████████▍ | 4849/4949 [6:28:55<07:41,  4.61s/it]"
     ]
    },
    {
     "name": "stdout",
     "output_type": "stream",
     "text": [
      "tf.Tensor(355.31622, shape=(), dtype=float32)\n"
     ]
    },
    {
     "name": "stderr",
     "output_type": "stream",
     "text": [
      " 99%|███████████████████████████████████████████████████████████████████████████▏| 4899/4949 [6:32:53<03:53,  4.68s/it]"
     ]
    },
    {
     "name": "stdout",
     "output_type": "stream",
     "text": [
      "tf.Tensor(419.272, shape=(), dtype=float32)\n"
     ]
    },
    {
     "name": "stderr",
     "output_type": "stream",
     "text": [
      "100%|████████████████████████████████████████████████████████████████████████████| 4949/4949 [6:36:51<00:00,  4.81s/it]\n"
     ]
    },
    {
     "name": "stdout",
     "output_type": "stream",
     "text": [
      "epoch_loss by 100 tf.Tensor(80.57373, shape=(), dtype=float32)\n"
     ]
    }
   ],
   "source": [
    "#training the gpt2 model\n",
    "learning_rate=0.0001\n",
    "optim=tf.optimizers.Adam(learning_rate)\n",
    "j=0\n",
    "loss_cum=0\n",
    "epoch_loss=0\n",
    "stop_training=False\n",
    "epochs=1\n",
    "for epoch in range(epochs):\n",
    "  print('epoch',epoch)\n",
    "  for i in tqdm(gpt_train_dataset):\n",
    "    with tf.GradientTape() as tape:\n",
    "      context=i[0]['context']\n",
    "      loss_mask=tf.cast(i[0]['loss_mask'],tf.float32)\n",
    "      output=tf_gpt2_model(context,training=True)['logits']\n",
    "      loss_value = tf.reduce_sum(tf.nn.sparse_softmax_cross_entropy_with_logits(\n",
    "                    labels=np.array(i[0]['label']), logits=output[ :,:-1])*loss_mask)\n",
    "      j=j+1\n",
    "      loss_cum+=loss_value\n",
    "      epoch_loss+=loss_value/100\n",
    "      if j%50==0:\n",
    "        print(loss_cum/50)\n",
    "        grads=tape.gradient(loss_cum/50,tf_gpt2_model.trainable_variables)\n",
    "        optim.apply_gradients(zip(grads,tf_gpt2_model.trainable_variables))\n",
    "        loss_cum=0\n",
    "      if tf.math.is_nan(loss_value):\n",
    "        print('loss became nan')\n",
    "        stop_training=True\n",
    "        break\n",
    "      if j%10000==0:\n",
    "        tf_gpt2_model.save_pretrained(\"tf_gpt2_model_2_10\"+str(epoch)+'_'+str(j))\n",
    "  print('epoch_loss by 100',epoch_loss/237)\n",
    "  epoch_loss=0\n",
    "  if stop_training:\n",
    "    break\n",
    "  tf_gpt2_model.save_pretrained(\"tf_gpt2_model_2_10\"+str(epoch))"
   ]
  },
  {
   "cell_type": "code",
   "execution_count": null,
   "id": "3575781f",
   "metadata": {},
   "outputs": [],
   "source": []
  },
  {
   "cell_type": "code",
   "execution_count": 52,
   "id": "dc4a454b",
   "metadata": {},
   "outputs": [
    {
     "data": {
      "text/plain": [
       "'tf_gpt2_model_2_100'"
      ]
     },
     "execution_count": 52,
     "metadata": {},
     "output_type": "execute_result"
    }
   ],
   "source": [
    "\"tf_gpt2_model_2_10\"+str(epoch)"
   ]
  },
  {
   "cell_type": "code",
   "execution_count": null,
   "id": "b16502d6",
   "metadata": {},
   "outputs": [],
   "source": []
  }
 ],
 "metadata": {
  "kernelspec": {
   "display_name": "Python 3 (ipykernel)",
   "language": "python",
   "name": "python3"
  },
  "language_info": {
   "codemirror_mode": {
    "name": "ipython",
    "version": 3
   },
   "file_extension": ".py",
   "mimetype": "text/x-python",
   "name": "python",
   "nbconvert_exporter": "python",
   "pygments_lexer": "ipython3",
   "version": "3.11.3"
  }
 },
 "nbformat": 4,
 "nbformat_minor": 5
}
